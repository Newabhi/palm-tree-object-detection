{
  "nbformat": 4,
  "nbformat_minor": 0,
  "metadata": {
    "colab": {
      "provenance": []
    },
    "kernelspec": {
      "name": "python3",
      "display_name": "Python 3"
    },
    "language_info": {
      "name": "python"
    }
  },
  "cells": [
    {
      "cell_type": "code",
      "execution_count": null,
      "metadata": {
        "id": "REpZlIKhzm8m"
      },
      "outputs": [],
      "source": [
        "!mkdir -p ~/.kaggle\n",
        "cp /content/sample_data/kaggle.json ~/.kaggle/\n",
        "!chmod 600 ~/.kaggle/kaggle.json"
      ]
    },
    {
      "cell_type": "code",
      "source": [
        "!git clone https://github.com/Newabhi/palm-tree-object-detection.git"
      ],
      "metadata": {
        "colab": {
          "base_uri": "https://localhost:8080/"
        },
        "id": "aIa6gwOEm-wb",
        "outputId": "70aa9a1e-cc97-404c-a4f3-581ef6cb8ca3"
      },
      "execution_count": null,
      "outputs": [
        {
          "output_type": "stream",
          "name": "stdout",
          "text": [
            "Cloning into 'palm-trees-counter'...\n",
            "remote: Enumerating objects: 318, done.\u001b[K\n",
            "remote: Counting objects: 100% (318/318), done.\u001b[K\n",
            "remote: Compressing objects: 100% (174/174), done.\u001b[K\n",
            "remote: Total 318 (delta 175), reused 241 (delta 103), pack-reused 0 (from 0)\u001b[K\n",
            "Receiving objects: 100% (318/318), 1.88 MiB | 6.29 MiB/s, done.\n",
            "Resolving deltas: 100% (175/175), done.\n"
          ]
        }
      ]
    },
    {
      "cell_type": "code",
      "source": [
        "%cd palm-trees-counter\n"
      ],
      "metadata": {
        "colab": {
          "base_uri": "https://localhost:8080/"
        },
        "id": "j1dfzqyJnLWd",
        "outputId": "632b80b7-4ad4-4ab4-c74d-ebf4f7b4d1e4"
      },
      "execution_count": null,
      "outputs": [
        {
          "output_type": "stream",
          "name": "stdout",
          "text": [
            "/content/palm-trees-counter\n"
          ]
        }
      ]
    },
    {
      "cell_type": "code",
      "source": [
        "# replace with your password from dagshub.com\n",
        "\n",
        "\n",
        "import os\n",
        "os.environ['MLFLOW_TRACKING_URI'] = 'https://dagshub.com/aditya.prashant0/my-first-repo.mlflow'\n",
        "os.environ['MLFLOW_TRACKING_USERNAME'] = 'aditya.prashant0'\n",
        "os.environ['MLFLOW_TRACKING_PASSWORD'] = '6ead9ce05fb489fd4be838843069cb2eac5b6c74'\n",
        "\n"
      ],
      "metadata": {
        "id": "vo_CAplinStP"
      },
      "execution_count": null,
      "outputs": []
    },
    {
      "cell_type": "code",
      "source": [],
      "metadata": {
        "id": "k-G8ZLjHweqP"
      },
      "execution_count": null,
      "outputs": []
    }
  ]
}